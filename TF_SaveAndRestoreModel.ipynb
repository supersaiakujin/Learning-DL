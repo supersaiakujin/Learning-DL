{
 "cells": [
  {
   "cell_type": "markdown",
   "metadata": {},
   "source": [
    "# import"
   ]
  },
  {
   "cell_type": "code",
   "execution_count": 1,
   "metadata": {
    "collapsed": true
   },
   "outputs": [],
   "source": [
    "import tensorflow as tf\n",
    "import numpy as np\n",
    "from tensorflow.examples.tutorials.mnist import input_data"
   ]
  },
  {
   "cell_type": "markdown",
   "metadata": {},
   "source": [
    "# load dataset"
   ]
  },
  {
   "cell_type": "code",
   "execution_count": 2,
   "metadata": {
    "collapsed": false
   },
   "outputs": [
    {
     "name": "stdout",
     "output_type": "stream",
     "text": [
      "Extracting ./data/mnist/train-images-idx3-ubyte.gz\n",
      "Extracting ./data/mnist/train-labels-idx1-ubyte.gz\n",
      "Extracting ./data/mnist/t10k-images-idx3-ubyte.gz\n",
      "Extracting ./data/mnist/t10k-labels-idx1-ubyte.gz\n"
     ]
    }
   ],
   "source": [
    "mnist = input_data.read_data_sets(\"./data/mnist/\", one_hot=True) "
   ]
  },
  {
   "cell_type": "markdown",
   "metadata": {},
   "source": [
    "# build model"
   ]
  },
  {
   "cell_type": "code",
   "execution_count": 3,
   "metadata": {
    "collapsed": false
   },
   "outputs": [],
   "source": [
    "def mlp(x, output_dim, reuse=False):\n",
    "        \n",
    "    w1 = tf.get_variable(\"w1\", [x.get_shape()[1], 1024], initializer=tf.random_normal_initializer())\n",
    "    b1 = tf.get_variable(\"b1\", [1024], initializer=tf.constant_initializer(0.0))\n",
    "    w2 = tf.get_variable(\"w2\", [1024, output_dim], initializer=tf.random_normal_initializer())\n",
    "    b2 = tf.get_variable(\"b2\", [output_dim], initializer=tf.constant_initializer(0.0))\n",
    "    \n",
    "    fc1 = tf.nn.relu(tf.matmul(x, w1) + b1)\n",
    "    fc2 = tf.matmul(fc1, w2) + b2\n",
    "\n",
    "    return fc2, [w1, b1, w2, b2]\n",
    "\n",
    "def slp(x, output_dim):\n",
    "    w1 = tf.get_variable(\"w1\", [x.get_shape()[1], output_dim], initializer=tf.random_normal_initializer())\n",
    "    b1 = tf.get_variable(\"b1\", [output_dim], initializer=tf.constant_initializer(0.0))\n",
    "    \n",
    "    fc1 = tf.nn.relu(tf.matmul(x, w1) + b1)\n",
    "    return fc1, [w1, b1]\n",
    "\n",
    "n_batch = 32\n",
    "n_label = 10\n",
    "n_train = 10000\n",
    "imagesize = 28\n",
    "learning_rate = 0.5\n",
    "\n",
    "x_node = tf.placeholder(tf.float32, shape=(n_batch, imagesize*imagesize))\n",
    "y_node = tf.placeholder(tf.float32, shape=(n_batch, n_label))\n",
    "\n",
    "with tf.variable_scope(\"MLP\") as scope:\n",
    "    out_m, theta_m = mlp(x_node, n_label)\n",
    "           \n",
    "loss = tf.reduce_mean(tf.nn.softmax_cross_entropy_with_logits(out_m, y_node))\n",
    "opt  = tf.train.GradientDescentOptimizer(learning_rate).minimize(loss)\n",
    "tr_pred = tf.nn.softmax(out_m)\n",
    "\n",
    "test_data = mnist.test.images\n",
    "test_labels = mnist.test.labels\n",
    "tx = tf.constant(test_data)\n",
    "ty_ = tf.constant(test_labels)\n",
    "\n",
    "with tf.variable_scope(\"MLP\") as scope:\n",
    "    scope.reuse_variables()\n",
    "    ty, _ = mlp(tx, n_label)\n",
    "    \n",
    "te_pred = tf.nn.softmax(ty) "
   ]
  },
  {
   "cell_type": "code",
   "execution_count": 4,
   "metadata": {
    "collapsed": true
   },
   "outputs": [],
   "source": [
    "def accuracy(y, y_):\n",
    "    return 100.0 * np.sum(np.argmax(y, 1) == np.argmax(y_, 1)) / y.shape[0]"
   ]
  },
  {
   "cell_type": "code",
   "execution_count": 5,
   "metadata": {
    "collapsed": true
   },
   "outputs": [],
   "source": [
    "saver = tf.train.Saver()\n",
    "\n",
    "sess=tf.InteractiveSession()\n",
    "\n",
    "init = tf.initialize_all_variables()\n",
    "sess.run(init)"
   ]
  },
  {
   "cell_type": "code",
   "execution_count": 6,
   "metadata": {
    "collapsed": false
   },
   "outputs": [
    {
     "name": "stdout",
     "output_type": "stream",
     "text": [
      "step = 0, loss=323.57, accuracy=6.25\n",
      "step = 500, loss=0.92, accuracy=96.88\n",
      "step = 1000, loss=0.97, accuracy=93.75\n",
      "step = 1500, loss=0.73, accuracy=90.62\n",
      "step = 2000, loss=0.17, accuracy=93.75\n",
      "step = 2500, loss=0.42, accuracy=90.62\n",
      "step = 3000, loss=0.01, accuracy=100.00\n",
      "step = 3500, loss=0.07, accuracy=96.88\n",
      "step = 4000, loss=0.01, accuracy=100.00\n",
      "step = 4500, loss=0.13, accuracy=93.75\n",
      "step = 5000, loss=0.49, accuracy=90.62\n",
      "step = 5500, loss=0.02, accuracy=100.00\n",
      "step = 6000, loss=0.50, accuracy=96.88\n",
      "step = 6500, loss=0.03, accuracy=100.00\n",
      "step = 7000, loss=0.15, accuracy=96.88\n",
      "step = 7500, loss=0.02, accuracy=100.00\n",
      "step = 8000, loss=0.21, accuracy=93.75\n",
      "step = 8500, loss=0.04, accuracy=100.00\n",
      "step = 9000, loss=0.05, accuracy=100.00\n",
      "step = 9500, loss=0.05, accuracy=96.88\n",
      "test accuracy=95.03\n"
     ]
    }
   ],
   "source": [
    "for step in xrange(n_train):\n",
    "    bx, by = mnist.train.next_batch(n_batch)\n",
    "    feed_dict = {x_node: bx, y_node: by}\n",
    "    _, _loss, _tr_pred = sess.run([opt, loss, tr_pred], feed_dict=feed_dict)\n",
    "    if step % 500 == 0:\n",
    "        _accuracy = accuracy(_tr_pred, by)\n",
    "        print 'step = %d, loss=%.2f, accuracy=%.2f' % (step, _loss, _accuracy)\n",
    "\n",
    "print 'test accuracy=%.2f' % accuracy(te_pred.eval(), test_labels)"
   ]
  },
  {
   "cell_type": "code",
   "execution_count": 8,
   "metadata": {
    "collapsed": false
   },
   "outputs": [],
   "source": [
    "old_theta_m = [ p.eval() for p in theta_m] # for comparing"
   ]
  },
  {
   "cell_type": "code",
   "execution_count": 9,
   "metadata": {
    "collapsed": false
   },
   "outputs": [
    {
     "data": {
      "text/plain": [
       "'model.ckpt'"
      ]
     },
     "execution_count": 9,
     "metadata": {},
     "output_type": "execute_result"
    }
   ],
   "source": [
    "saver.save(sess, \"model.ckpt\")"
   ]
  },
  {
   "cell_type": "code",
   "execution_count": 10,
   "metadata": {
    "collapsed": false
   },
   "outputs": [],
   "source": [
    "sess.close()"
   ]
  },
  {
   "cell_type": "code",
   "execution_count": 11,
   "metadata": {
    "collapsed": false
   },
   "outputs": [],
   "source": [
    "sess=tf.InteractiveSession()\n",
    "\n",
    "# for clear\n",
    "init = tf.initialize_all_variables()\n",
    "sess.run(init)"
   ]
  },
  {
   "cell_type": "code",
   "execution_count": 12,
   "metadata": {
    "collapsed": false
   },
   "outputs": [
    {
     "name": "stdout",
     "output_type": "stream",
     "text": [
      "802816\n",
      "1024\n",
      "10240\n",
      "10\n"
     ]
    }
   ],
   "source": [
    "for prm, prm_o in zip(theta_m, old_theta_m):\n",
    "    p1 = prm.eval()\n",
    "    p2 = prm_o\n",
    "    print np.sum(p1 != p2) "
   ]
  },
  {
   "cell_type": "code",
   "execution_count": 13,
   "metadata": {
    "collapsed": true
   },
   "outputs": [],
   "source": [
    "saver.restore(sess, \"model.ckpt\")"
   ]
  },
  {
   "cell_type": "code",
   "execution_count": 14,
   "metadata": {
    "collapsed": false
   },
   "outputs": [
    {
     "name": "stdout",
     "output_type": "stream",
     "text": [
      "0\n",
      "0\n",
      "0\n",
      "0\n"
     ]
    }
   ],
   "source": [
    "for prm, prm_o in zip(theta_m, old_theta_m):\n",
    "    p1 = prm.eval()\n",
    "    p2 = prm_o\n",
    "    print np.sum(p1 != p2) "
   ]
  },
  {
   "cell_type": "code",
   "execution_count": 15,
   "metadata": {
    "collapsed": false
   },
   "outputs": [
    {
     "name": "stdout",
     "output_type": "stream",
     "text": [
      "test accuracy=95.03\n"
     ]
    }
   ],
   "source": [
    "print 'test accuracy=%.2f' % accuracy(te_pred.eval(), test_labels)"
   ]
  },
  {
   "cell_type": "code",
   "execution_count": 16,
   "metadata": {
    "collapsed": false
   },
   "outputs": [
    {
     "name": "stdout",
     "output_type": "stream",
     "text": [
      "step = 0, loss=0.00, accuracy=100.00\n",
      "step = 500, loss=0.04, accuracy=96.88\n",
      "step = 1000, loss=0.00, accuracy=100.00\n",
      "step = 1500, loss=0.02, accuracy=100.00\n",
      "step = 2000, loss=0.00, accuracy=100.00\n",
      "step = 2500, loss=0.00, accuracy=100.00\n",
      "step = 3000, loss=0.06, accuracy=96.88\n",
      "step = 3500, loss=0.00, accuracy=100.00\n",
      "step = 4000, loss=0.00, accuracy=100.00\n",
      "step = 4500, loss=0.00, accuracy=100.00\n",
      "step = 5000, loss=0.00, accuracy=100.00\n",
      "step = 5500, loss=0.01, accuracy=100.00\n",
      "step = 6000, loss=0.00, accuracy=100.00\n",
      "step = 6500, loss=0.00, accuracy=100.00\n",
      "step = 7000, loss=0.00, accuracy=100.00\n",
      "step = 7500, loss=0.02, accuracy=100.00\n",
      "step = 8000, loss=0.00, accuracy=100.00\n",
      "step = 8500, loss=0.01, accuracy=100.00\n",
      "step = 9000, loss=0.00, accuracy=100.00\n",
      "step = 9500, loss=0.01, accuracy=100.00\n",
      "test accuracy=95.73\n"
     ]
    }
   ],
   "source": [
    "for step in xrange(n_train):\n",
    "    bx, by = mnist.train.next_batch(n_batch)\n",
    "    feed_dict = {x_node: bx, y_node: by}\n",
    "    _, _loss, _tr_pred = sess.run([opt, loss, tr_pred], feed_dict=feed_dict)\n",
    "    if step % 500 == 0:\n",
    "        _accuracy = accuracy(_tr_pred, by)\n",
    "        print 'step = %d, loss=%.2f, accuracy=%.2f' % (step, _loss, _accuracy)\n",
    "\n",
    "print 'test accuracy=%.2f' % accuracy(te_pred.eval(), test_labels)"
   ]
  },
  {
   "cell_type": "code",
   "execution_count": 17,
   "metadata": {
    "collapsed": true
   },
   "outputs": [],
   "source": [
    "sess.close()"
   ]
  },
  {
   "cell_type": "code",
   "execution_count": null,
   "metadata": {
    "collapsed": true
   },
   "outputs": [],
   "source": [
    "tf.reset_default_graph()"
   ]
  }
 ],
 "metadata": {
  "kernelspec": {
   "display_name": "Python 2",
   "language": "python",
   "name": "python2"
  },
  "language_info": {
   "codemirror_mode": {
    "name": "ipython",
    "version": 2
   },
   "file_extension": ".py",
   "mimetype": "text/x-python",
   "name": "python",
   "nbconvert_exporter": "python",
   "pygments_lexer": "ipython2",
   "version": "2.7.11"
  },
  "toc": {
   "toc_cell": false,
   "toc_number_sections": true,
   "toc_threshold": 6,
   "toc_window_display": false
  }
 },
 "nbformat": 4,
 "nbformat_minor": 0
}
