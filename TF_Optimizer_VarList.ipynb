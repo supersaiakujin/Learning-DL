{
 "cells": [
  {
   "cell_type": "code",
   "execution_count": 17,
   "metadata": {
    "collapsed": false
   },
   "outputs": [
    {
     "name": "stdout",
     "output_type": "stream",
     "text": [
      "x:2.00, w:3.00, b:1.00\n",
      "p:6.00, y:7.00, y_:5.00\n",
      "s:-7.00, t:-2.00, f:4.00\n",
      "---------- gradient ----------\n",
      "gx:12.00, gw:8.00, gb: 4.00\n",
      "gp:4.00, gy:4.00, gy_:-4.00\n",
      "gs:-4.00, gt:-4.00, gf:1.00\n",
      "---------- run GradientDescentOptimizer ----------\n",
      "x:-10.00, w:-5.00, b:-3.00\n",
      "p:50.00, y:47.00, y_:9.00\n",
      "s:-47.00, t:-38.00, f:1444.00\n",
      "---------- gradient ----------\n",
      "gx:-380.00, gw:-760.00, gb: 76.00\n",
      "gp:76.00, gy:76.00, gy_:-76.00\n",
      "gs:-76.00, gt:-76.00, gf:1.00\n"
     ]
    }
   ],
   "source": [
    "import tensorflow as tf\n",
    "import numpy as np\n",
    "\n",
    "w = tf.Variable(tf.constant([3.]), name='w')\n",
    "b = tf.Variable(tf.constant([1.]), name='b')\n",
    "x = tf.Variable(tf.constant([2.]), name='x')\n",
    "y_ = tf.Variable(tf.constant([5.]), name='y_')\n",
    "\n",
    "p = w*x\n",
    "y = p+b\n",
    "s = -y\n",
    "t = s +y_\n",
    "f = t*t\n",
    "\n",
    "gx, gb, gw, gp, gy, gy_,gs, gt, gf = tf.gradients(f, [x, b, w, p, y, y_,s, t, f])\n",
    "\n",
    "init = tf.initialize_all_variables()\n",
    "\n",
    "opt = tf.train.GradientDescentOptimizer(1.0)\n",
    "train = opt.minimize(f)\n",
    "\n",
    "with tf.Session() as sess:\n",
    "    sess.run(init)\n",
    "    print 'x:%.2f, w:%.2f, b:%.2f' % (sess.run(x), sess.run(w), sess.run(b))\n",
    "    print 'p:%.2f, y:%.2f, y_:%.2f'% (sess.run(p), sess.run(y), sess.run(y_))\n",
    "    print 's:%.2f, t:%.2f, f:%.2f' % (sess.run(s), sess.run(t), sess.run(f))\n",
    "\n",
    "    print '---------- gradient ----------'\n",
    "    print 'gx:%.2f, gw:%.2f, gb: %.2f' % (sess.run(gx), sess.run(gw), sess.run(gb))\n",
    "    print 'gp:%.2f, gy:%.2f, gy_:%.2f' %(sess.run(gp), sess.run(gy), sess.run(gy_))\n",
    "    print 'gs:%.2f, gt:%.2f, gf:%.2f' %(sess.run(gs), sess.run(gt), sess.run(gf))\n",
    "    print '---------- run GradientDescentOptimizer ----------'\n",
    "    sess.run(train)\n",
    "\n",
    "    print 'x:%.2f, w:%.2f, b:%.2f' % (sess.run(x), sess.run(w), sess.run(b))\n",
    "    print 'p:%.2f, y:%.2f, y_:%.2f'% (sess.run(p), sess.run(y), sess.run(y_))\n",
    "    print 's:%.2f, t:%.2f, f:%.2f'%(sess.run(s), sess.run(t), sess.run(f))\n",
    "\n",
    "    print '---------- gradient ----------'\n",
    "    print 'gx:%.2f, gw:%.2f, gb: %.2f' % (sess.run(gx), sess.run(gw), sess.run(gb))\n",
    "    print 'gp:%.2f, gy:%.2f, gy_:%.2f' %(sess.run(gp), sess.run(gy), sess.run(gy_))\n",
    "    print 'gs:%.2f, gt:%.2f, gf:%.2f' %(sess.run(gs), sess.run(gt), sess.run(gf))"
   ]
  },
  {
   "cell_type": "code",
   "execution_count": 12,
   "metadata": {
    "collapsed": true
   },
   "outputs": [],
   "source": [
    "sess.close()\n",
    "tf.reset_default_graph()"
   ]
  },
  {
   "cell_type": "code",
   "execution_count": 7,
   "metadata": {
    "collapsed": false
   },
   "outputs": [
    {
     "name": "stdout",
     "output_type": "stream",
     "text": [
      "x:2.00, w:3.00, b:1.00\n",
      "p:6.00, y:7.00, y_:5.00\n",
      "s:-7.00, t:-2.00, f:4.00\n",
      "---------- gradient ----------\n",
      "gx:12.00, gw:8.00, gb: 4.00\n",
      "gp:4.00, gy:4.00, gy_:-4.00\n",
      "gs:-4.00, gt:-4.00, gf:1.00\n",
      "---------- run GradientDescentOptimizer ----------\n",
      "x:2.00, w:-5.00, b:-3.00\n",
      "p:-10.00, y:-13.00, y_:5.00\n",
      "s:13.00, t:18.00, f:324.00\n",
      "---------- gradient ----------\n",
      "gx:180.00, gw:-72.00, gb: -36.00\n",
      "gp:-36.00, gy:-36.00, gy_:36.00\n",
      "gs:36.00, gt:36.00, gf:1.00\n"
     ]
    }
   ],
   "source": [
    "import tensorflow as tf\n",
    "import numpy as np\n",
    "\n",
    "w = tf.Variable(tf.constant([3.]), name='w')\n",
    "b = tf.Variable(tf.constant([1.]), name='b')\n",
    "x = tf.Variable(tf.constant([2.]), name='x')\n",
    "y_ = tf.Variable(tf.constant([5.]), name='y_')\n",
    "\n",
    "p = w*x\n",
    "y = p+b\n",
    "s = -y\n",
    "t = s +y_\n",
    "f = t*t\n",
    "\n",
    "\n",
    "gx, gb, gw, gp, gy, gy_,gs, gt, gf = tf.gradients(f, [x, b, w, p, y, y_,s, t, f])\n",
    "\n",
    "init = tf.initialize_all_variables()\n",
    "\n",
    "opt = tf.train.GradientDescentOptimizer(1.0)\n",
    "train = opt.minimize(f, var_list=[w,b])\n",
    "\n",
    "with tf.Session() as sess:\n",
    "    sess.run(init)\n",
    "    print 'x:%.2f, w:%.2f, b:%.2f' % (sess.run(x), sess.run(w), sess.run(b))\n",
    "    print 'p:%.2f, y:%.2f, y_:%.2f'% (sess.run(p), sess.run(y), sess.run(y_))\n",
    "    print 's:%.2f, t:%.2f, f:%.2f' % (sess.run(s), sess.run(t), sess.run(f))\n",
    "\n",
    "    print '---------- gradient ----------'\n",
    "    print 'gx:%.2f, gw:%.2f, gb: %.2f' % (sess.run(gx), sess.run(gw), sess.run(gb))\n",
    "    print 'gp:%.2f, gy:%.2f, gy_:%.2f' %(sess.run(gp), sess.run(gy), sess.run(gy_))\n",
    "    print 'gs:%.2f, gt:%.2f, gf:%.2f' %(sess.run(gs), sess.run(gt), sess.run(gf))\n",
    "    print '---------- run GradientDescentOptimizer ----------'\n",
    "    sess.run(train)\n",
    "\n",
    "    print 'x:%.2f, w:%.2f, b:%.2f' % (sess.run(x), sess.run(w), sess.run(b))\n",
    "    print 'p:%.2f, y:%.2f, y_:%.2f'% (sess.run(p), sess.run(y), sess.run(y_))\n",
    "    print 's:%.2f, t:%.2f, f:%.2f'%(sess.run(s), sess.run(t), sess.run(f))\n",
    "\n",
    "    print '---------- gradient ----------'\n",
    "    print 'gx:%.2f, gw:%.2f, gb: %.2f' % (sess.run(gx), sess.run(gw), sess.run(gb))\n",
    "    print 'gp:%.2f, gy:%.2f, gy_:%.2f' %(sess.run(gp), sess.run(gy), sess.run(gy_))\n",
    "    print 'gs:%.2f, gt:%.2f, gf:%.2f' %(sess.run(gs), sess.run(gt), sess.run(gf))"
   ]
  },
  {
   "cell_type": "code",
   "execution_count": null,
   "metadata": {
    "collapsed": true
   },
   "outputs": [],
   "source": [
    "sess.close()\n",
    "tf.reset_default_graph()"
   ]
  },
  {
   "cell_type": "code",
   "execution_count": 13,
   "metadata": {
    "collapsed": false
   },
   "outputs": [
    {
     "name": "stdout",
     "output_type": "stream",
     "text": [
      "params/w:0\n",
      "params/b:0\n",
      "x:2.00, w:3.00, b:1.00\n",
      "p:6.00, y:7.00, y_:5.00\n",
      "s:-7.00, t:-2.00, f:4.00\n",
      "---------- gradient ----------\n",
      "gx:12.00, gw:8.00, gb: 4.00\n",
      "gp:4.00, gy:4.00, gy_:-4.00\n",
      "gs:-4.00, gt:-4.00, gf:1.00\n",
      "---------- run GradientDescentOptimizer ----------\n",
      "x:2.00, w:-5.00, b:-3.00\n",
      "p:-10.00, y:-13.00, y_:5.00\n",
      "s:13.00, t:18.00, f:324.00\n",
      "---------- gradient ----------\n",
      "gx:180.00, gw:-72.00, gb: -36.00\n",
      "gp:-36.00, gy:-36.00, gy_:36.00\n",
      "gs:36.00, gt:36.00, gf:1.00\n"
     ]
    }
   ],
   "source": [
    "import tensorflow as tf\n",
    "import numpy as np\n",
    "\n",
    "with tf.variable_scope(\"params\"):\n",
    "    w = tf.Variable(tf.constant([3.]), name='w')\n",
    "    b = tf.Variable(tf.constant([1.]), name='b')\n",
    "\n",
    "with tf.variable_scope(\"input\"):\n",
    "    x = tf.Variable(tf.constant([2.]), name='x')\n",
    "    y_ = tf.Variable(tf.constant([5.]), name='y_')\n",
    "    \n",
    "with tf.variable_scope(\"intermediate\"):\n",
    "    p = w*x\n",
    "    y = p+b\n",
    "    s = -y\n",
    "    t = s +y_\n",
    "    f = t*t    \n",
    "\n",
    "\n",
    "gx, gb, gw, gp, gy, gy_,gs, gt, gf = tf.gradients(f, [x, b, w, p, y, y_,s, t, f])\n",
    "\n",
    "train_vars = tf.get_collection(tf.GraphKeys.TRAINABLE_VARIABLES, scope=\"params\")\n",
    "print 'train_vars'\n",
    "for v in train_vars:\n",
    "    print v.name\n",
    "\n",
    "init = tf.initialize_all_variables()\n",
    "\n",
    "opt = tf.train.GradientDescentOptimizer(1.0)\n",
    "train = opt.minimize(f, var_list=train_vars)\n",
    "\n",
    "with tf.Session() as sess:\n",
    "    sess.run(init)\n",
    "    print 'x:%.2f, w:%.2f, b:%.2f' % (sess.run(x), sess.run(w), sess.run(b))\n",
    "    print 'p:%.2f, y:%.2f, y_:%.2f'% (sess.run(p), sess.run(y), sess.run(y_))\n",
    "    print 's:%.2f, t:%.2f, f:%.2f' % (sess.run(s), sess.run(t), sess.run(f))\n",
    "\n",
    "    print '---------- gradient ----------'\n",
    "    print 'gx:%.2f, gw:%.2f, gb: %.2f' % (sess.run(gx), sess.run(gw), sess.run(gb))\n",
    "    print 'gp:%.2f, gy:%.2f, gy_:%.2f' %(sess.run(gp), sess.run(gy), sess.run(gy_))\n",
    "    print 'gs:%.2f, gt:%.2f, gf:%.2f' %(sess.run(gs), sess.run(gt), sess.run(gf))\n",
    "    print '---------- run GradientDescentOptimizer ----------'\n",
    "    sess.run(train)\n",
    "\n",
    "    print 'x:%.2f, w:%.2f, b:%.2f' % (sess.run(x), sess.run(w), sess.run(b))\n",
    "    print 'p:%.2f, y:%.2f, y_:%.2f'% (sess.run(p), sess.run(y), sess.run(y_))\n",
    "    print 's:%.2f, t:%.2f, f:%.2f'%(sess.run(s), sess.run(t), sess.run(f))\n",
    "\n",
    "    print '---------- gradient ----------'\n",
    "    print 'gx:%.2f, gw:%.2f, gb: %.2f' % (sess.run(gx), sess.run(gw), sess.run(gb))\n",
    "    print 'gp:%.2f, gy:%.2f, gy_:%.2f' %(sess.run(gp), sess.run(gy), sess.run(gy_))\n",
    "    print 'gs:%.2f, gt:%.2f, gf:%.2f' %(sess.run(gs), sess.run(gt), sess.run(gf))"
   ]
  },
  {
   "cell_type": "code",
   "execution_count": 16,
   "metadata": {
    "collapsed": true
   },
   "outputs": [],
   "source": [
    "sess.close()\n",
    "tf.reset_default_graph()"
   ]
  },
  {
   "cell_type": "code",
   "execution_count": 15,
   "metadata": {
    "collapsed": false
   },
   "outputs": [
    {
     "name": "stdout",
     "output_type": "stream",
     "text": [
      "x:2.00, w:3.00, b:1.00\n",
      "p:6.00, y:7.00, y_:5.00\n",
      "s:-7.00, t:-2.00, f:4.00\n",
      "---------- gradient ----------\n",
      "gx:12.00, gw:8.00, gb: 4.00\n",
      "gp:4.00, gy:4.00, gy_:-4.00\n",
      "gs:-4.00, gt:-4.00, gf:1.00\n",
      "---------- run GradientDescentOptimizer ----------\n",
      "x:2.00, w:-5.00, b:-3.00\n",
      "p:-10.00, y:-13.00, y_:5.00\n",
      "s:13.00, t:18.00, f:324.00\n",
      "---------- gradient ----------\n",
      "gx:180.00, gw:-72.00, gb: -36.00\n",
      "gp:-36.00, gy:-36.00, gy_:36.00\n",
      "gs:36.00, gt:36.00, gf:1.00\n"
     ]
    }
   ],
   "source": [
    "import tensorflow as tf\n",
    "import numpy as np\n",
    "\n",
    "w = tf.Variable(tf.constant([3.]), name='w')\n",
    "b = tf.Variable(tf.constant([1.]), name='b')\n",
    "x = tf.Variable(tf.constant([2.]), name='x', trainable=False)\n",
    "y_ = tf.Variable(tf.constant([5.]), name='y_', trainable=False)\n",
    "\n",
    "p = w*x\n",
    "y = p+b\n",
    "s = -y\n",
    "t = s +y_\n",
    "f = t*t\n",
    "\n",
    "gx, gb, gw, gp, gy, gy_,gs, gt, gf = tf.gradients(f, [x, b, w, p, y, y_,s, t, f])\n",
    "\n",
    "init = tf.initialize_all_variables()\n",
    "\n",
    "opt = tf.train.GradientDescentOptimizer(1.0)\n",
    "train = opt.minimize(f)\n",
    "\n",
    "with tf.Session() as sess:\n",
    "    sess.run(init)\n",
    "    print 'x:%.2f, w:%.2f, b:%.2f' % (sess.run(x), sess.run(w), sess.run(b))\n",
    "    print 'p:%.2f, y:%.2f, y_:%.2f'% (sess.run(p), sess.run(y), sess.run(y_))\n",
    "    print 's:%.2f, t:%.2f, f:%.2f' % (sess.run(s), sess.run(t), sess.run(f))\n",
    "\n",
    "    print '---------- gradient ----------'\n",
    "    print 'gx:%.2f, gw:%.2f, gb: %.2f' % (sess.run(gx), sess.run(gw), sess.run(gb))\n",
    "    print 'gp:%.2f, gy:%.2f, gy_:%.2f' %(sess.run(gp), sess.run(gy), sess.run(gy_))\n",
    "    print 'gs:%.2f, gt:%.2f, gf:%.2f' %(sess.run(gs), sess.run(gt), sess.run(gf))\n",
    "    print '---------- run GradientDescentOptimizer ----------'\n",
    "    sess.run(train)\n",
    "\n",
    "    print 'x:%.2f, w:%.2f, b:%.2f' % (sess.run(x), sess.run(w), sess.run(b))\n",
    "    print 'p:%.2f, y:%.2f, y_:%.2f'% (sess.run(p), sess.run(y), sess.run(y_))\n",
    "    print 's:%.2f, t:%.2f, f:%.2f'%(sess.run(s), sess.run(t), sess.run(f))\n",
    "\n",
    "    print '---------- gradient ----------'\n",
    "    print 'gx:%.2f, gw:%.2f, gb: %.2f' % (sess.run(gx), sess.run(gw), sess.run(gb))\n",
    "    print 'gp:%.2f, gy:%.2f, gy_:%.2f' %(sess.run(gp), sess.run(gy), sess.run(gy_))\n",
    "    print 'gs:%.2f, gt:%.2f, gf:%.2f' %(sess.run(gs), sess.run(gt), sess.run(gf))"
   ]
  }
 ],
 "metadata": {
  "kernelspec": {
   "display_name": "Python 2",
   "language": "python",
   "name": "python2"
  },
  "language_info": {
   "codemirror_mode": {
    "name": "ipython",
    "version": 2
   },
   "file_extension": ".py",
   "mimetype": "text/x-python",
   "name": "python",
   "nbconvert_exporter": "python",
   "pygments_lexer": "ipython2",
   "version": "2.7.11"
  }
 },
 "nbformat": 4,
 "nbformat_minor": 0
}
