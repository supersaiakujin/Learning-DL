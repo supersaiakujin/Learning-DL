{
 "cells": [
  {
   "cell_type": "code",
   "execution_count": 1,
   "metadata": {
    "collapsed": false
   },
   "outputs": [],
   "source": [
    "import tensorflow as tf\n",
    "import numpy as np\n",
    "import scipy as sp\n",
    "import matplotlib.pyplot as plt\n",
    "from tensorflow.examples.tutorials.mnist import input_data\n",
    "%matplotlib inline"
   ]
  },
  {
   "cell_type": "markdown",
   "metadata": {},
   "source": [
    "# Read Data"
   ]
  },
  {
   "cell_type": "code",
   "execution_count": 2,
   "metadata": {
    "collapsed": false
   },
   "outputs": [
    {
     "name": "stdout",
     "output_type": "stream",
     "text": [
      "Extracting ./data/mnist/train-images-idx3-ubyte.gz\n",
      "Extracting ./data/mnist/train-labels-idx1-ubyte.gz\n",
      "Extracting ./data/mnist/t10k-images-idx3-ubyte.gz\n",
      "Extracting ./data/mnist/t10k-labels-idx1-ubyte.gz\n"
     ]
    }
   ],
   "source": [
    "mnist = input_data.read_data_sets(\"./data/mnist/\", one_hot=True)"
   ]
  },
  {
   "cell_type": "code",
   "execution_count": 3,
   "metadata": {
    "collapsed": true
   },
   "outputs": [],
   "source": [
    "image_size = 28\n",
    "n_labels = 10\n",
    "n_batch  = 128\n",
    "n_train  = 10000\n",
    "beta = 0.001"
   ]
  },
  {
   "cell_type": "code",
   "execution_count": 4,
   "metadata": {
    "collapsed": false
   },
   "outputs": [],
   "source": [
    "def accuracy(y, y_):\n",
    "    return 100.0 * np.sum(np.argmax(y, 1) == np.argmax(y_, 1)) / y.shape[0]"
   ]
  },
  {
   "cell_type": "code",
   "execution_count": 5,
   "metadata": {
    "collapsed": false
   },
   "outputs": [],
   "source": [
    "with tf.variable_scope(\"slp\"):\n",
    "    x  = tf.placeholder(tf.float32, shape=(n_batch, image_size*image_size))\n",
    "    y_ = tf.placeholder(tf.float32, shape=(n_batch, n_labels))\n",
    "    w0 = tf.get_variable(\"w0\", [image_size * image_size, n_labels], initializer=tf.truncated_normal_initializer(seed=0))\n",
    "    b0 = tf.get_variable(\"b0\", [n_labels], initializer=tf.constant_initializer(0.0))\n",
    "\n",
    "    w1 = tf.get_variable(\"w1\", [image_size * image_size, n_labels], initializer=tf.truncated_normal_initializer(seed=0))\n",
    "    b1 = tf.get_variable(\"b1\", [n_labels], initializer=tf.constant_initializer(0.0))\n",
    "    \n",
    "    y0 = tf.matmul( x, w0 ) + b0\n",
    "    y1 = tf.matmul( x, w1 ) + b1\n",
    "    \n"
   ]
  },
  {
   "cell_type": "code",
   "execution_count": 6,
   "metadata": {
    "collapsed": false
   },
   "outputs": [],
   "source": [
    "valid_data = mnist.validation.images\n",
    "valid_labels = mnist.validation.labels\n",
    "test_data = mnist.test.images\n",
    "test_labels = mnist.test.labels\n",
    "vx = tf.constant(valid_data)\n",
    "vy_ = tf.constant(valid_labels)\n",
    "tx = tf.constant(test_data)\n",
    "ty_ = tf.constant(test_labels)"
   ]
  },
  {
   "cell_type": "code",
   "execution_count": 7,
   "metadata": {
    "collapsed": false
   },
   "outputs": [],
   "source": [
    "loss0 = tf.reduce_mean( tf.nn.softmax_cross_entropy_with_logits( y0, y_))\n",
    "optimizer0 = tf.train.GradientDescentOptimizer(0.5).minimize(loss0)\n",
    "\n",
    "loss1 = tf.reduce_mean( tf.nn.softmax_cross_entropy_with_logits( y1, y_) + beta * tf.nn.l2_loss(w1))\n",
    "optimizer1 = tf.train.GradientDescentOptimizer(0.5).minimize(loss1)\n"
   ]
  },
  {
   "cell_type": "code",
   "execution_count": 8,
   "metadata": {
    "collapsed": false
   },
   "outputs": [],
   "source": [
    "train_prediction0 = tf.nn.softmax(y0)\n",
    "valid_prediction0 = tf.nn.softmax(tf.matmul(vx, w0) + b0)\n",
    "test_prediction0  = tf.nn.softmax(tf.matmul(tx, w0) + b0)\n",
    "\n",
    "train_prediction1 = tf.nn.softmax(y1)\n",
    "valid_prediction1 = tf.nn.softmax(tf.matmul(vx, w1) + b1)\n",
    "test_prediction1  = tf.nn.softmax(tf.matmul(tx, w1) + b1)"
   ]
  },
  {
   "cell_type": "code",
   "execution_count": 9,
   "metadata": {
    "collapsed": false
   },
   "outputs": [],
   "source": [
    "sess = tf.InteractiveSession()\n",
    "# sess = tf.Session()\n",
    "\n",
    "init = tf.initialize_all_variables()"
   ]
  },
  {
   "cell_type": "code",
   "execution_count": 10,
   "metadata": {
    "collapsed": true
   },
   "outputs": [],
   "source": [
    "sess.run(init)"
   ]
  },
  {
   "cell_type": "code",
   "execution_count": 11,
   "metadata": {
    "collapsed": true
   },
   "outputs": [],
   "source": [
    "result_accuracy = []"
   ]
  },
  {
   "cell_type": "code",
   "execution_count": 12,
   "metadata": {
    "collapsed": false
   },
   "outputs": [
    {
     "name": "stdout",
     "output_type": "stream",
     "text": [
      "step = 0, train accuracy0: 13.28, validation accuracy0: 16.64, train accuracy1: 13.28, validation accuracy1: 16.64\n",
      "step = 500, train accuracy0: 85.16, validation accuracy0: 86.24, train accuracy1: 85.94, validation accuracy1: 87.00\n",
      "step = 1000, train accuracy0: 93.75, validation accuracy0: 88.78, train accuracy1: 93.75, validation accuracy1: 89.90\n",
      "step = 1500, train accuracy0: 89.84, validation accuracy0: 89.48, train accuracy1: 91.41, validation accuracy1: 90.86\n",
      "step = 2000, train accuracy0: 92.19, validation accuracy0: 89.94, train accuracy1: 93.75, validation accuracy1: 91.32\n",
      "step = 2500, train accuracy0: 88.28, validation accuracy0: 90.24, train accuracy1: 89.84, validation accuracy1: 92.08\n",
      "step = 3000, train accuracy0: 88.28, validation accuracy0: 90.32, train accuracy1: 88.28, validation accuracy1: 91.78\n",
      "step = 3500, train accuracy0: 89.06, validation accuracy0: 90.46, train accuracy1: 89.84, validation accuracy1: 92.10\n",
      "step = 4000, train accuracy0: 92.19, validation accuracy0: 90.82, train accuracy1: 92.97, validation accuracy1: 92.00\n",
      "step = 4500, train accuracy0: 89.06, validation accuracy0: 90.72, train accuracy1: 89.06, validation accuracy1: 91.26\n",
      "step = 5000, train accuracy0: 96.09, validation accuracy0: 90.96, train accuracy1: 94.53, validation accuracy1: 92.04\n",
      "step = 5500, train accuracy0: 91.41, validation accuracy0: 91.22, train accuracy1: 89.06, validation accuracy1: 91.98\n",
      "step = 6000, train accuracy0: 89.06, validation accuracy0: 91.20, train accuracy1: 90.62, validation accuracy1: 92.18\n",
      "step = 6500, train accuracy0: 92.19, validation accuracy0: 90.96, train accuracy1: 94.53, validation accuracy1: 91.68\n",
      "step = 7000, train accuracy0: 92.19, validation accuracy0: 91.58, train accuracy1: 92.97, validation accuracy1: 92.30\n",
      "step = 7500, train accuracy0: 92.19, validation accuracy0: 91.48, train accuracy1: 93.75, validation accuracy1: 92.00\n",
      "step = 8000, train accuracy0: 95.31, validation accuracy0: 91.44, train accuracy1: 91.41, validation accuracy1: 91.92\n",
      "step = 8500, train accuracy0: 89.84, validation accuracy0: 91.64, train accuracy1: 89.84, validation accuracy1: 91.86\n",
      "step = 9000, train accuracy0: 91.41, validation accuracy0: 91.28, train accuracy1: 89.84, validation accuracy1: 92.10\n",
      "step = 9500, train accuracy0: 89.84, validation accuracy0: 91.38, train accuracy1: 90.62, validation accuracy1: 92.00\n",
      "test accuracy0: 91.68\n",
      "test accuracy1: 91.75\n"
     ]
    }
   ],
   "source": [
    "for step in xrange(n_train):\n",
    "    bx, by = mnist.train.next_batch(n_batch)    \n",
    "    _, L0, tp0 = sess.run([optimizer0, loss0, train_prediction0], feed_dict={x: bx, y_: by})\n",
    "    _, L1, tp1 = sess.run([optimizer1, loss1, train_prediction1], feed_dict={x: bx, y_: by})\n",
    "    if step % 500 == 0:\n",
    "        ac_wo_decay_train = accuracy(tp0, by)\n",
    "        ac_wo_decay_valid = accuracy(valid_prediction0.eval(), valid_labels)\n",
    "        ac_wt_decay_train = accuracy(tp1, by)\n",
    "        ac_wt_decay_valid = accuracy(valid_prediction1.eval(), valid_labels)\n",
    "        ac = {'step' : step, 'wo_decay' : {'training' : ac_wo_decay_train, 'validation' : ac_wo_decay_valid}, 'wt_decay' : {'training' : ac_wt_decay_train, 'validation' : ac_wt_decay_valid}}\n",
    "        result_accuracy.append(ac)\n",
    "        print \"step = %d, train accuracy0: %.2f, validation accuracy0: %.2f, train accuracy1: %.2f, validation accuracy1: %.2f\" % (step, ac_wo_decay_train, ac_wo_decay_valid, ac_wt_decay_train, ac_wt_decay_valid)\n",
    "        \n",
    "print \"test accuracy0: %.2f\" % accuracy(test_prediction0.eval(), test_labels)\n",
    "print \"test accuracy1: %.2f\" % accuracy(test_prediction1.eval(), test_labels)"
   ]
  },
  {
   "cell_type": "code",
   "execution_count": 13,
   "metadata": {
    "collapsed": false
   },
   "outputs": [
    {
     "name": "stderr",
     "output_type": "stream",
     "text": [
      "/home/ohashi/anaconda2/envs/tf071/lib/python2.7/site-packages/matplotlib/figure.py:397: UserWarning: matplotlib is currently using a non-GUI backend, so cannot show the figure\n",
      "  \"matplotlib is currently using a non-GUI backend, \"\n"
     ]
    },
    {
     "data": {
      "image/png": "[encoded data removed]",
      "text/plain": [
       "<matplotlib.figure.Figure at 0x7f2783f52650>"
      ]
     },
     "metadata": {},
     "output_type": "display_data"
    }
   ],
   "source": [
    "fig,axes = plt.subplots(ncols=2, figsize=(8,4))\n",
    "axes[0].hist(w0.eval().flatten(), bins=sp.linspace(-3,3,50))\n",
    "axes[0].set_title('without weight decay')\n",
    "axes[0].set_xlabel('weight')\n",
    "axes[1].hist(w1.eval().flatten(), bins=sp.linspace(-3,3,50))\n",
    "axes[1].set_title('with weight decay')\n",
    "axes[1].set_xlabel('weight')\n",
    "fig.show()"
   ]
  },
  {
   "cell_type": "code",
   "execution_count": 14,
   "metadata": {
    "collapsed": true
   },
   "outputs": [],
   "source": [
    "tr_step = [ac['step'] for ac in result_accuracy]\n",
    "ac_training_wo_decay = [ac['wo_decay']['training'] for ac in result_accuracy]\n",
    "ac_training_wt_decay = [ac['wt_decay']['training'] for ac in result_accuracy]\n",
    "ac_validation_wo_decay = [ac['wo_decay']['validation'] for ac in result_accuracy]\n",
    "ac_validation_wt_decay = [ac['wt_decay']['validation'] for ac in result_accuracy]"
   ]
  },
  {
   "cell_type": "code",
   "execution_count": 15,
   "metadata": {
    "collapsed": false
   },
   "outputs": [
    {
     "data": {
      "image/png": "[encoded data removed]",
      "text/plain": [
       "<matplotlib.figure.Figure at 0x7f27712f1310>"
      ]
     },
     "metadata": {},
     "output_type": "display_data"
    }
   ],
   "source": [
    "fig = plt.figure(figsize=(8,6))\n",
    "ax = fig.add_subplot(1,1,1)\n",
    "\n",
    "ax.plot(tr_step, ac_training_wo_decay, color='blue', linestyle='dashed')\n",
    "ax.plot(tr_step, ac_training_wt_decay, color='red', linestyle='dashed')\n",
    "ax.plot(tr_step, ac_validation_wo_decay, color='blue', linestyle='solid')\n",
    "ax.plot(tr_step, ac_validation_wt_decay, color='red', linestyle='solid')\n",
    "ax.set_title('accuracy')\n",
    "ax.set_xlabel('step')\n",
    "ax.set_ylabel('accuracy')\n",
    "ax.grid(True)\n",
    "ax.set_xlim((0, 10000))\n",
    "ax.set_ylim((0, 100))\n",
    "fig.show()"
   ]
  }
 ],
 "metadata": {
  "kernelspec": {
   "display_name": "Python 2",
   "language": "python",
   "name": "python2"
  },
  "language_info": {
   "codemirror_mode": {
    "name": "ipython",
    "version": 2
   },
   "file_extension": ".py",
   "mimetype": "text/x-python",
   "name": "python",
   "nbconvert_exporter": "python",
   "pygments_lexer": "ipython2",
   "version": "2.7.11"
  }
 },
 "nbformat": 4,
 "nbformat_minor": 0
}
